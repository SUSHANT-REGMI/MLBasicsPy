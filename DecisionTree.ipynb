{
 "cells": [
  {
   "cell_type": "code",
   "execution_count": 10,
   "id": "0e30c20a-e1db-4504-ab1f-5aa464688327",
   "metadata": {},
   "outputs": [],
   "source": [
    "import pandas as pd\n",
    "import numpy as np\n",
    "import random\n",
    "import seaborn as sns\n",
    "import matplotlib.pyplot as plt\n"
   ]
  },
  {
   "cell_type": "code",
   "execution_count": 11,
   "id": "6668443b-ddf5-4d10-b9ea-d83ca60eceee",
   "metadata": {},
   "outputs": [],
   "source": [
    "df = pd.read_csv('iris.csv')"
   ]
  },
  {
   "cell_type": "code",
   "execution_count": 12,
   "id": "32297301-3afc-4321-8ee0-e9908b1bde48",
   "metadata": {},
   "outputs": [
    {
     "data": {
      "text/html": [
       "<div>\n",
       "<style scoped>\n",
       "    .dataframe tbody tr th:only-of-type {\n",
       "        vertical-align: middle;\n",
       "    }\n",
       "\n",
       "    .dataframe tbody tr th {\n",
       "        vertical-align: top;\n",
       "    }\n",
       "\n",
       "    .dataframe thead th {\n",
       "        text-align: right;\n",
       "    }\n",
       "</style>\n",
       "<table border=\"1\" class=\"dataframe\">\n",
       "  <thead>\n",
       "    <tr style=\"text-align: right;\">\n",
       "      <th></th>\n",
       "      <th>Id</th>\n",
       "      <th>SepalLengthCm</th>\n",
       "      <th>SepalWidthCm</th>\n",
       "      <th>PetalLengthCm</th>\n",
       "      <th>PetalWidthCm</th>\n",
       "      <th>Species</th>\n",
       "    </tr>\n",
       "  </thead>\n",
       "  <tbody>\n",
       "    <tr>\n",
       "      <th>0</th>\n",
       "      <td>1</td>\n",
       "      <td>5.1</td>\n",
       "      <td>3.5</td>\n",
       "      <td>1.4</td>\n",
       "      <td>0.2</td>\n",
       "      <td>Iris-setosa</td>\n",
       "    </tr>\n",
       "    <tr>\n",
       "      <th>1</th>\n",
       "      <td>2</td>\n",
       "      <td>4.9</td>\n",
       "      <td>3.0</td>\n",
       "      <td>1.4</td>\n",
       "      <td>0.2</td>\n",
       "      <td>Iris-setosa</td>\n",
       "    </tr>\n",
       "    <tr>\n",
       "      <th>2</th>\n",
       "      <td>3</td>\n",
       "      <td>4.7</td>\n",
       "      <td>3.2</td>\n",
       "      <td>1.3</td>\n",
       "      <td>0.2</td>\n",
       "      <td>Iris-setosa</td>\n",
       "    </tr>\n",
       "    <tr>\n",
       "      <th>3</th>\n",
       "      <td>4</td>\n",
       "      <td>4.6</td>\n",
       "      <td>3.1</td>\n",
       "      <td>1.5</td>\n",
       "      <td>0.2</td>\n",
       "      <td>Iris-setosa</td>\n",
       "    </tr>\n",
       "    <tr>\n",
       "      <th>4</th>\n",
       "      <td>5</td>\n",
       "      <td>5.0</td>\n",
       "      <td>3.6</td>\n",
       "      <td>1.4</td>\n",
       "      <td>0.2</td>\n",
       "      <td>Iris-setosa</td>\n",
       "    </tr>\n",
       "  </tbody>\n",
       "</table>\n",
       "</div>"
      ],
      "text/plain": [
       "   Id  SepalLengthCm  SepalWidthCm  PetalLengthCm  PetalWidthCm      Species\n",
       "0   1            5.1           3.5            1.4           0.2  Iris-setosa\n",
       "1   2            4.9           3.0            1.4           0.2  Iris-setosa\n",
       "2   3            4.7           3.2            1.3           0.2  Iris-setosa\n",
       "3   4            4.6           3.1            1.5           0.2  Iris-setosa\n",
       "4   5            5.0           3.6            1.4           0.2  Iris-setosa"
      ]
     },
     "execution_count": 12,
     "metadata": {},
     "output_type": "execute_result"
    }
   ],
   "source": [
    "df.head()"
   ]
  },
  {
   "cell_type": "code",
   "execution_count": 13,
   "id": "ff63da26-cc64-4ed4-ab7e-750401df7cf3",
   "metadata": {},
   "outputs": [],
   "source": [
    "df = df.drop('Id', axis=1)\n",
    "df = df.rename(columns={\"Species\":\"Label\"})"
   ]
  },
  {
   "cell_type": "code",
   "execution_count": null,
   "id": "c03c71d0-fd23-4631-9884-97a3bbb20734",
   "metadata": {},
   "outputs": [],
   "source": []
  },
  {
   "cell_type": "code",
   "execution_count": 14,
   "id": "deaf6fec-5dd7-47ac-aee9-ab4560f7397c",
   "metadata": {},
   "outputs": [
    {
     "name": "stdout",
     "output_type": "stream",
     "text": [
      "[10, 133, 12, 78, 115, 22, 129, 109, 9, 116]\n"
     ]
    },
    {
     "data": {
      "text/plain": [
       "(     SepalLengthCm  SepalWidthCm  PetalLengthCm  PetalWidthCm           Label\n",
       " 0              5.1           3.5            1.4           0.2     Iris-setosa\n",
       " 1              4.9           3.0            1.4           0.2     Iris-setosa\n",
       " 2              4.7           3.2            1.3           0.2     Iris-setosa\n",
       " 3              4.6           3.1            1.5           0.2     Iris-setosa\n",
       " 4              5.0           3.6            1.4           0.2     Iris-setosa\n",
       " ..             ...           ...            ...           ...             ...\n",
       " 145            6.7           3.0            5.2           2.3  Iris-virginica\n",
       " 146            6.3           2.5            5.0           1.9  Iris-virginica\n",
       " 147            6.5           3.0            5.2           2.0  Iris-virginica\n",
       " 148            6.2           3.4            5.4           2.3  Iris-virginica\n",
       " 149            5.9           3.0            5.1           1.8  Iris-virginica\n",
       " \n",
       " [140 rows x 5 columns],\n",
       "      SepalLengthCm  SepalWidthCm  PetalLengthCm  PetalWidthCm            Label\n",
       " 10             5.4           3.7            1.5           0.2      Iris-setosa\n",
       " 133            6.3           2.8            5.1           1.5   Iris-virginica\n",
       " 12             4.8           3.0            1.4           0.1      Iris-setosa\n",
       " 78             6.0           2.9            4.5           1.5  Iris-versicolor\n",
       " 115            6.4           3.2            5.3           2.3   Iris-virginica\n",
       " 22             4.6           3.6            1.0           0.2      Iris-setosa\n",
       " 129            7.2           3.0            5.8           1.6   Iris-virginica\n",
       " 109            7.2           3.6            6.1           2.5   Iris-virginica\n",
       " 9              4.9           3.1            1.5           0.1      Iris-setosa\n",
       " 116            6.5           3.0            5.5           1.8   Iris-virginica)"
      ]
     },
     "execution_count": 14,
     "metadata": {},
     "output_type": "execute_result"
    }
   ],
   "source": [
    "def train_test_split(df, test_size):\n",
    "    unique_numbers = []\n",
    "    [unique_numbers.append(random_num) for _ in range(test_size) if (random_num := random.randint(1, 150)) not in unique_numbers]\n",
    "    print(unique_numbers)\n",
    "    train_df = df.copy()\n",
    "    test_df = df.iloc[unique_numbers]\n",
    "    train_df.drop(unique_numbers, inplace=True)\n",
    "    return train_df, test_df\n",
    "train_test_split(df, 10)"
   ]
  },
  {
   "cell_type": "code",
   "execution_count": 15,
   "id": "e95e419e-61ab-4738-a0b2-a0392af26539",
   "metadata": {},
   "outputs": [
    {
     "name": "stdout",
     "output_type": "stream",
     "text": [
      "[6, 72, 67, 88, 139, 142, 137, 74, 84, 38]\n",
      "[[4.6 3.4 1.4 0.3 'Iris-setosa']\n",
      " [6.3 2.5 4.9 1.5 'Iris-versicolor']\n",
      " [5.8 2.7 4.1 1.0 'Iris-versicolor']\n",
      " [5.6 3.0 4.1 1.3 'Iris-versicolor']\n",
      " [6.9 3.1 5.4 2.1 'Iris-virginica']\n",
      " [5.8 2.7 5.1 1.9 'Iris-virginica']\n",
      " [6.4 3.1 5.5 1.8 'Iris-virginica']\n",
      " [6.4 2.9 4.3 1.3 'Iris-versicolor']\n",
      " [5.4 3.0 4.5 1.5 'Iris-versicolor']\n",
      " [4.4 3.0 1.3 0.2 'Iris-setosa']]\n"
     ]
    }
   ],
   "source": [
    "a , b = train_test_split(df, 10)\n",
    "print(b.values)\n",
    "\n",
    "data = a.values\n",
    "# print(data)"
   ]
  },
  {
   "cell_type": "markdown",
   "id": "ab44adf5-dd74-4297-b0ee-50886206138e",
   "metadata": {},
   "source": [
    "# Now we will check data purity\n"
   ]
  },
  {
   "cell_type": "code",
   "execution_count": 16,
   "id": "b414c27f-9ad7-4ae2-ac22-9b5d5275605c",
   "metadata": {},
   "outputs": [],
   "source": [
    "def check_purity(data):\n",
    "    label_column = data[:, -1]\n",
    "    unique_classes = np.unique(label_column)\n",
    "    if len(unique_classes) == 1:\n",
    "        return True\n",
    "    else:\n",
    "        return False"
   ]
  },
  {
   "cell_type": "code",
   "execution_count": 17,
   "id": "a4414137-dc1d-4dba-bee6-f42eb76a1567",
   "metadata": {},
   "outputs": [
    {
     "data": {
      "text/plain": [
       "False"
      ]
     },
     "execution_count": 17,
     "metadata": {},
     "output_type": "execute_result"
    }
   ],
   "source": [
    "check_purity(a[a.PetalWidthCm<1.2].values)"
   ]
  },
  {
   "cell_type": "markdown",
   "id": "c792904b-189c-48ff-b23b-28c9b34d2a91",
   "metadata": {},
   "source": [
    "### Classifier Function\n"
   ]
  },
  {
   "cell_type": "code",
   "execution_count": 19,
   "id": "3e507d93-0f56-45de-af7b-46a9b5ca2988",
   "metadata": {},
   "outputs": [
    {
     "data": {
      "text/plain": [
       "('Iris-setosa', array([48, 45, 47], dtype=int64))"
      ]
     },
     "execution_count": 19,
     "metadata": {},
     "output_type": "execute_result"
    }
   ],
   "source": [
    "def classify_data(data):\n",
    "    \n",
    "    label_column = data[:, -1]\n",
    "    unique_classes, counts_unique_classes = np.unique(label_column, return_counts=True)\n",
    "    \n",
    "    index = counts_unique_classes.argmax()\n",
    "    classification = unique_classes[index]\n",
    "    \n",
    "    return classification, counts_unique_classes\n",
    "\n",
    "classify_data(data)"
   ]
  },
  {
   "cell_type": "markdown",
   "id": "f7dc2778-50ff-46e7-a7ab-8741822b0743",
   "metadata": {},
   "source": [
    "### get Potential Splits?"
   ]
  },
  {
   "cell_type": "code",
   "execution_count": 20,
   "id": "2bd620b3-c844-4615-93ff-a5668e11aab0",
   "metadata": {},
   "outputs": [],
   "source": [
    "def get_potential_splits(data):\n",
    "    potential_splits = {}\n",
    "    _, n_columns = data.shape\n",
    "    for column_index in range(n_columns -1):\n",
    "        potential_splits[column_index] = []\n",
    "        values = data[:, column_index]\n",
    "        unique_values = np.unique(values)\n",
    "        \n",
    "        for index in range(1,len(unique_values)):\n",
    "            current_value = unique_values[index]\n",
    "            previous_value = unique_values[index-1]\n",
    "            potential_split = (current_value + previous_value) / 2\n",
    "            potential_splits[column_index].append(potential_split)\n",
    "            \n",
    "    return potential_splits"
   ]
  },
  {
   "cell_type": "markdown",
   "id": "6e160b53-473e-44b5-98f1-08b56fe6324f",
   "metadata": {},
   "source": [
    "Petal width ko value minus garera data points nikalyo ani tyo data points lai chai use garyo"
   ]
  },
  {
   "cell_type": "code",
   "execution_count": 25,
   "id": "77e91fb1-1f0f-4ace-a61d-cdb343a5f68f",
   "metadata": {},
   "outputs": [
    {
     "name": "stdout",
     "output_type": "stream",
     "text": [
      "{0: [4.35, 4.45, 4.55, 4.65, 4.75, 4.85, 4.95, 5.05, 5.15, 5.25, 5.35, 5.45, 5.55, 5.65, 5.75, 5.85, 5.95, 6.05, 6.15, 6.25, 6.35, 6.45, 6.55, 6.65, 6.75, 6.85, 6.95, 7.05, 7.15, 7.25, 7.35, 7.5, 7.65, 7.800000000000001], 1: [2.1, 2.25, 2.3499999999999996, 2.45, 2.55, 2.6500000000000004, 2.75, 2.8499999999999996, 2.95, 3.05, 3.1500000000000004, 3.25, 3.3499999999999996, 3.45, 3.55, 3.6500000000000004, 3.75, 3.8499999999999996, 3.95, 4.05, 4.15, 4.300000000000001], 2: [1.05, 1.15, 1.25, 1.35, 1.45, 1.55, 1.65, 1.7999999999999998, 2.45, 3.15, 3.4, 3.55, 3.6500000000000004, 3.75, 3.8499999999999996, 3.95, 4.05, 4.15, 4.25, 4.35, 4.45, 4.55, 4.65, 4.75, 4.85, 4.95, 5.05, 5.15, 5.25, 5.35, 5.45, 5.55, 5.65, 5.75, 5.85, 5.95, 6.05, 6.199999999999999, 6.35, 6.5, 6.65, 6.800000000000001], 3: [0.15000000000000002, 0.25, 0.35, 0.45, 0.55, 0.8, 1.05, 1.15, 1.25, 1.35, 1.45, 1.55, 1.65, 1.75, 1.85, 1.95, 2.05, 2.1500000000000004, 2.25, 2.3499999999999996, 2.45]}\n"
     ]
    }
   ],
   "source": [
    "potential_splits = get_potential_splits(a.values)\n",
    "print(potential_splits)"
   ]
  },
  {
   "cell_type": "code",
   "execution_count": 29,
   "id": "e85a35d8-e78c-4059-9bf9-7117d5a3143e",
   "metadata": {},
   "outputs": [
    {
     "data": {
      "image/png": "[encoded data removed]",
      "text/plain": [
       "<Figure size 863x600 with 1 Axes>"
      ]
     },
     "metadata": {},
     "output_type": "display_data"
    }
   ],
   "source": [
    "sns.lmplot(data=a, x=\"PetalWidthCm\", y=\"PetalLengthCm\", fit_reg=False, hue=\"Label\", height=6 , aspect=1.2)\n",
    "plt.vlines(x=potential_splits[3], ymin=1, ymax=7)\n",
    "plt.show()"
   ]
  },
  {
   "cell_type": "markdown",
   "id": "19c7267b-8b14-4729-9e01-4d9719de0af5",
   "metadata": {},
   "source": [
    "### paila  PetalWidth lai pivot manera euta random split value rakhera Iris-setosa lai aru 2ta sanga split garyo"
   ]
  },
  {
   "cell_type": "code",
   "execution_count": 56,
   "id": "ba7c9977-6f0b-4e54-a029-07d6ad096945",
   "metadata": {},
   "outputs": [],
   "source": [
    "split_value = 0.8\n",
    "def split_data(data, split_column=3, split_value=0.8):\n",
    "    # split_column = 3\n",
    "    # split_value = 0.8\n",
    "    data_below = data[data[:,split_column]<=split_value]\n",
    "    data_above = data[data[:, split_column]>split_value]\n",
    "    return data_below, data_above"
   ]
  },
  {
   "cell_type": "code",
   "execution_count": 57,
   "id": "6b7b7cc8-e264-4cd0-83f6-93a8c92dbcdc",
   "metadata": {},
   "outputs": [
    {
     "data": {
      "text/plain": [
       "(array([[5.1, 3.5, 1.4, 0.2, 'Iris-setosa'],\n",
       "        [4.9, 3.0, 1.4, 0.2, 'Iris-setosa'],\n",
       "        [4.7, 3.2, 1.3, 0.2, 'Iris-setosa'],\n",
       "        [4.6, 3.1, 1.5, 0.2, 'Iris-setosa'],\n",
       "        [5.0, 3.6, 1.4, 0.2, 'Iris-setosa'],\n",
       "        [5.4, 3.9, 1.7, 0.4, 'Iris-setosa'],\n",
       "        [5.0, 3.4, 1.5, 0.2, 'Iris-setosa'],\n",
       "        [4.4, 2.9, 1.4, 0.2, 'Iris-setosa'],\n",
       "        [4.9, 3.1, 1.5, 0.1, 'Iris-setosa'],\n",
       "        [5.4, 3.7, 1.5, 0.2, 'Iris-setosa'],\n",
       "        [4.8, 3.4, 1.6, 0.2, 'Iris-setosa'],\n",
       "        [4.8, 3.0, 1.4, 0.1, 'Iris-setosa'],\n",
       "        [4.3, 3.0, 1.1, 0.1, 'Iris-setosa'],\n",
       "        [5.8, 4.0, 1.2, 0.2, 'Iris-setosa'],\n",
       "        [5.7, 4.4, 1.5, 0.4, 'Iris-setosa'],\n",
       "        [5.4, 3.9, 1.3, 0.4, 'Iris-setosa'],\n",
       "        [5.1, 3.5, 1.4, 0.3, 'Iris-setosa'],\n",
       "        [5.7, 3.8, 1.7, 0.3, 'Iris-setosa'],\n",
       "        [5.1, 3.8, 1.5, 0.3, 'Iris-setosa'],\n",
       "        [5.4, 3.4, 1.7, 0.2, 'Iris-setosa'],\n",
       "        [5.1, 3.7, 1.5, 0.4, 'Iris-setosa'],\n",
       "        [4.6, 3.6, 1.0, 0.2, 'Iris-setosa'],\n",
       "        [5.1, 3.3, 1.7, 0.5, 'Iris-setosa'],\n",
       "        [4.8, 3.4, 1.9, 0.2, 'Iris-setosa'],\n",
       "        [5.0, 3.0, 1.6, 0.2, 'Iris-setosa'],\n",
       "        [5.0, 3.4, 1.6, 0.4, 'Iris-setosa'],\n",
       "        [5.2, 3.5, 1.5, 0.2, 'Iris-setosa'],\n",
       "        [5.2, 3.4, 1.4, 0.2, 'Iris-setosa'],\n",
       "        [4.7, 3.2, 1.6, 0.2, 'Iris-setosa'],\n",
       "        [4.8, 3.1, 1.6, 0.2, 'Iris-setosa'],\n",
       "        [5.4, 3.4, 1.5, 0.4, 'Iris-setosa'],\n",
       "        [5.2, 4.1, 1.5, 0.1, 'Iris-setosa'],\n",
       "        [5.5, 4.2, 1.4, 0.2, 'Iris-setosa'],\n",
       "        [4.9, 3.1, 1.5, 0.1, 'Iris-setosa'],\n",
       "        [5.0, 3.2, 1.2, 0.2, 'Iris-setosa'],\n",
       "        [5.5, 3.5, 1.3, 0.2, 'Iris-setosa'],\n",
       "        [4.9, 3.1, 1.5, 0.1, 'Iris-setosa'],\n",
       "        [5.1, 3.4, 1.5, 0.2, 'Iris-setosa'],\n",
       "        [5.0, 3.5, 1.3, 0.3, 'Iris-setosa'],\n",
       "        [4.5, 2.3, 1.3, 0.3, 'Iris-setosa'],\n",
       "        [4.4, 3.2, 1.3, 0.2, 'Iris-setosa'],\n",
       "        [5.0, 3.5, 1.6, 0.6, 'Iris-setosa'],\n",
       "        [5.1, 3.8, 1.9, 0.4, 'Iris-setosa'],\n",
       "        [4.8, 3.0, 1.4, 0.3, 'Iris-setosa'],\n",
       "        [5.1, 3.8, 1.6, 0.2, 'Iris-setosa'],\n",
       "        [4.6, 3.2, 1.4, 0.2, 'Iris-setosa'],\n",
       "        [5.3, 3.7, 1.5, 0.2, 'Iris-setosa'],\n",
       "        [5.0, 3.3, 1.4, 0.2, 'Iris-setosa']], dtype=object),\n",
       " array([[7.0, 3.2, 4.7, 1.4, 'Iris-versicolor'],\n",
       "        [6.4, 3.2, 4.5, 1.5, 'Iris-versicolor'],\n",
       "        [6.9, 3.1, 4.9, 1.5, 'Iris-versicolor'],\n",
       "        [5.5, 2.3, 4.0, 1.3, 'Iris-versicolor'],\n",
       "        [6.5, 2.8, 4.6, 1.5, 'Iris-versicolor'],\n",
       "        [5.7, 2.8, 4.5, 1.3, 'Iris-versicolor'],\n",
       "        [6.3, 3.3, 4.7, 1.6, 'Iris-versicolor'],\n",
       "        [4.9, 2.4, 3.3, 1.0, 'Iris-versicolor'],\n",
       "        [6.6, 2.9, 4.6, 1.3, 'Iris-versicolor'],\n",
       "        [5.2, 2.7, 3.9, 1.4, 'Iris-versicolor'],\n",
       "        [5.0, 2.0, 3.5, 1.0, 'Iris-versicolor'],\n",
       "        [5.9, 3.0, 4.2, 1.5, 'Iris-versicolor'],\n",
       "        [6.0, 2.2, 4.0, 1.0, 'Iris-versicolor'],\n",
       "        [6.1, 2.9, 4.7, 1.4, 'Iris-versicolor'],\n",
       "        [5.6, 2.9, 3.6, 1.3, 'Iris-versicolor'],\n",
       "        [6.7, 3.1, 4.4, 1.4, 'Iris-versicolor'],\n",
       "        [5.6, 3.0, 4.5, 1.5, 'Iris-versicolor'],\n",
       "        [6.2, 2.2, 4.5, 1.5, 'Iris-versicolor'],\n",
       "        [5.6, 2.5, 3.9, 1.1, 'Iris-versicolor'],\n",
       "        [5.9, 3.2, 4.8, 1.8, 'Iris-versicolor'],\n",
       "        [6.1, 2.8, 4.0, 1.3, 'Iris-versicolor'],\n",
       "        [6.1, 2.8, 4.7, 1.2, 'Iris-versicolor'],\n",
       "        [6.6, 3.0, 4.4, 1.4, 'Iris-versicolor'],\n",
       "        [6.8, 2.8, 4.8, 1.4, 'Iris-versicolor'],\n",
       "        [6.7, 3.0, 5.0, 1.7, 'Iris-versicolor'],\n",
       "        [6.0, 2.9, 4.5, 1.5, 'Iris-versicolor'],\n",
       "        [5.7, 2.6, 3.5, 1.0, 'Iris-versicolor'],\n",
       "        [5.5, 2.4, 3.8, 1.1, 'Iris-versicolor'],\n",
       "        [5.5, 2.4, 3.7, 1.0, 'Iris-versicolor'],\n",
       "        [5.8, 2.7, 3.9, 1.2, 'Iris-versicolor'],\n",
       "        [6.0, 2.7, 5.1, 1.6, 'Iris-versicolor'],\n",
       "        [6.0, 3.4, 4.5, 1.6, 'Iris-versicolor'],\n",
       "        [6.7, 3.1, 4.7, 1.5, 'Iris-versicolor'],\n",
       "        [6.3, 2.3, 4.4, 1.3, 'Iris-versicolor'],\n",
       "        [5.5, 2.5, 4.0, 1.3, 'Iris-versicolor'],\n",
       "        [5.5, 2.6, 4.4, 1.2, 'Iris-versicolor'],\n",
       "        [6.1, 3.0, 4.6, 1.4, 'Iris-versicolor'],\n",
       "        [5.8, 2.6, 4.0, 1.2, 'Iris-versicolor'],\n",
       "        [5.0, 2.3, 3.3, 1.0, 'Iris-versicolor'],\n",
       "        [5.6, 2.7, 4.2, 1.3, 'Iris-versicolor'],\n",
       "        [5.7, 3.0, 4.2, 1.2, 'Iris-versicolor'],\n",
       "        [5.7, 2.9, 4.2, 1.3, 'Iris-versicolor'],\n",
       "        [6.2, 2.9, 4.3, 1.3, 'Iris-versicolor'],\n",
       "        [5.1, 2.5, 3.0, 1.1, 'Iris-versicolor'],\n",
       "        [5.7, 2.8, 4.1, 1.3, 'Iris-versicolor'],\n",
       "        [6.3, 3.3, 6.0, 2.5, 'Iris-virginica'],\n",
       "        [5.8, 2.7, 5.1, 1.9, 'Iris-virginica'],\n",
       "        [7.1, 3.0, 5.9, 2.1, 'Iris-virginica'],\n",
       "        [6.3, 2.9, 5.6, 1.8, 'Iris-virginica'],\n",
       "        [6.5, 3.0, 5.8, 2.2, 'Iris-virginica'],\n",
       "        [7.6, 3.0, 6.6, 2.1, 'Iris-virginica'],\n",
       "        [4.9, 2.5, 4.5, 1.7, 'Iris-virginica'],\n",
       "        [7.3, 2.9, 6.3, 1.8, 'Iris-virginica'],\n",
       "        [6.7, 2.5, 5.8, 1.8, 'Iris-virginica'],\n",
       "        [7.2, 3.6, 6.1, 2.5, 'Iris-virginica'],\n",
       "        [6.5, 3.2, 5.1, 2.0, 'Iris-virginica'],\n",
       "        [6.4, 2.7, 5.3, 1.9, 'Iris-virginica'],\n",
       "        [6.8, 3.0, 5.5, 2.1, 'Iris-virginica'],\n",
       "        [5.7, 2.5, 5.0, 2.0, 'Iris-virginica'],\n",
       "        [5.8, 2.8, 5.1, 2.4, 'Iris-virginica'],\n",
       "        [6.4, 3.2, 5.3, 2.3, 'Iris-virginica'],\n",
       "        [6.5, 3.0, 5.5, 1.8, 'Iris-virginica'],\n",
       "        [7.7, 3.8, 6.7, 2.2, 'Iris-virginica'],\n",
       "        [7.7, 2.6, 6.9, 2.3, 'Iris-virginica'],\n",
       "        [6.0, 2.2, 5.0, 1.5, 'Iris-virginica'],\n",
       "        [6.9, 3.2, 5.7, 2.3, 'Iris-virginica'],\n",
       "        [5.6, 2.8, 4.9, 2.0, 'Iris-virginica'],\n",
       "        [7.7, 2.8, 6.7, 2.0, 'Iris-virginica'],\n",
       "        [6.3, 2.7, 4.9, 1.8, 'Iris-virginica'],\n",
       "        [6.7, 3.3, 5.7, 2.1, 'Iris-virginica'],\n",
       "        [7.2, 3.2, 6.0, 1.8, 'Iris-virginica'],\n",
       "        [6.2, 2.8, 4.8, 1.8, 'Iris-virginica'],\n",
       "        [6.1, 3.0, 4.9, 1.8, 'Iris-virginica'],\n",
       "        [6.4, 2.8, 5.6, 2.1, 'Iris-virginica'],\n",
       "        [7.2, 3.0, 5.8, 1.6, 'Iris-virginica'],\n",
       "        [7.4, 2.8, 6.1, 1.9, 'Iris-virginica'],\n",
       "        [7.9, 3.8, 6.4, 2.0, 'Iris-virginica'],\n",
       "        [6.4, 2.8, 5.6, 2.2, 'Iris-virginica'],\n",
       "        [6.3, 2.8, 5.1, 1.5, 'Iris-virginica'],\n",
       "        [6.1, 2.6, 5.6, 1.4, 'Iris-virginica'],\n",
       "        [7.7, 3.0, 6.1, 2.3, 'Iris-virginica'],\n",
       "        [6.3, 3.4, 5.6, 2.4, 'Iris-virginica'],\n",
       "        [6.0, 3.0, 4.8, 1.8, 'Iris-virginica'],\n",
       "        [6.7, 3.1, 5.6, 2.4, 'Iris-virginica'],\n",
       "        [6.9, 3.1, 5.1, 2.3, 'Iris-virginica'],\n",
       "        [6.8, 3.2, 5.9, 2.3, 'Iris-virginica'],\n",
       "        [6.7, 3.3, 5.7, 2.5, 'Iris-virginica'],\n",
       "        [6.7, 3.0, 5.2, 2.3, 'Iris-virginica'],\n",
       "        [6.3, 2.5, 5.0, 1.9, 'Iris-virginica'],\n",
       "        [6.5, 3.0, 5.2, 2.0, 'Iris-virginica'],\n",
       "        [6.2, 3.4, 5.4, 2.3, 'Iris-virginica'],\n",
       "        [5.9, 3.0, 5.1, 1.8, 'Iris-virginica']], dtype=object))"
      ]
     },
     "execution_count": 57,
     "metadata": {},
     "output_type": "execute_result"
    }
   ],
   "source": [
    "split_data(data)"
   ]
  },
  {
   "cell_type": "code",
   "execution_count": 61,
   "id": "9ad7878f-00a9-4fab-ad19-b95029367f16",
   "metadata": {},
   "outputs": [
    {
     "data": {
      "image/png": "[encoded data removed]",
      "text/plain": [
       "<Figure size 500x500 with 1 Axes>"
      ]
     },
     "metadata": {},
     "output_type": "display_data"
    }
   ],
   "source": [
    "\n",
    "sns.lmplot(data=a, x=\"PetalWidthCm\", y=\"PetalLengthCm\", fit_reg=False)\n",
    "plt.vlines(x=split_value, ymin=1, ymax=7)\n",
    "plt.show()"
   ]
  },
  {
   "cell_type": "code",
   "execution_count": null,
   "id": "5696cc21-1fe0-41b9-bd3a-c7496ca5cbe1",
   "metadata": {},
   "outputs": [],
   "source": []
  },
  {
   "cell_type": "code",
   "execution_count": null,
   "id": "a39ffd1b-c406-4975-ae30-bd91071096e8",
   "metadata": {},
   "outputs": [],
   "source": []
  }
 ],
 "metadata": {
  "kernelspec": {
   "display_name": "Python 3 (ipykernel)",
   "language": "python",
   "name": "python3"
  },
  "language_info": {
   "codemirror_mode": {
    "name": "ipython",
    "version": 3
   },
   "file_extension": ".py",
   "mimetype": "text/x-python",
   "name": "python",
   "nbconvert_exporter": "python",
   "pygments_lexer": "ipython3",
   "version": "3.9.13"
  }
 },
 "nbformat": 4,
 "nbformat_minor": 5
}
