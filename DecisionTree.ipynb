{
 "cells": [
  {
   "cell_type": "code",
   "execution_count": 19,
   "id": "0e30c20a-e1db-4504-ab1f-5aa464688327",
   "metadata": {},
   "outputs": [],
   "source": [
    "import pandas as pd\n",
    "import numpy as np\n",
    "import random\n",
    "import seaborn as sns\n",
    "import matplotlib.pyplot as plt\n"
   ]
  },
  {
   "cell_type": "code",
   "execution_count": 2,
   "id": "6668443b-ddf5-4d10-b9ea-d83ca60eceee",
   "metadata": {},
   "outputs": [],
   "source": [
    "df = pd.read_csv('iris.csv')"
   ]
  },
  {
   "cell_type": "code",
   "execution_count": 3,
   "id": "32297301-3afc-4321-8ee0-e9908b1bde48",
   "metadata": {},
   "outputs": [
    {
     "data": {
      "text/html": [
       "<div>\n",
       "<style scoped>\n",
       "    .dataframe tbody tr th:only-of-type {\n",
       "        vertical-align: middle;\n",
       "    }\n",
       "\n",
       "    .dataframe tbody tr th {\n",
       "        vertical-align: top;\n",
       "    }\n",
       "\n",
       "    .dataframe thead th {\n",
       "        text-align: right;\n",
       "    }\n",
       "</style>\n",
       "<table border=\"1\" class=\"dataframe\">\n",
       "  <thead>\n",
       "    <tr style=\"text-align: right;\">\n",
       "      <th></th>\n",
       "      <th>Id</th>\n",
       "      <th>SepalLengthCm</th>\n",
       "      <th>SepalWidthCm</th>\n",
       "      <th>PetalLengthCm</th>\n",
       "      <th>PetalWidthCm</th>\n",
       "      <th>Species</th>\n",
       "    </tr>\n",
       "  </thead>\n",
       "  <tbody>\n",
       "    <tr>\n",
       "      <th>0</th>\n",
       "      <td>1</td>\n",
       "      <td>5.1</td>\n",
       "      <td>3.5</td>\n",
       "      <td>1.4</td>\n",
       "      <td>0.2</td>\n",
       "      <td>Iris-setosa</td>\n",
       "    </tr>\n",
       "    <tr>\n",
       "      <th>1</th>\n",
       "      <td>2</td>\n",
       "      <td>4.9</td>\n",
       "      <td>3.0</td>\n",
       "      <td>1.4</td>\n",
       "      <td>0.2</td>\n",
       "      <td>Iris-setosa</td>\n",
       "    </tr>\n",
       "    <tr>\n",
       "      <th>2</th>\n",
       "      <td>3</td>\n",
       "      <td>4.7</td>\n",
       "      <td>3.2</td>\n",
       "      <td>1.3</td>\n",
       "      <td>0.2</td>\n",
       "      <td>Iris-setosa</td>\n",
       "    </tr>\n",
       "    <tr>\n",
       "      <th>3</th>\n",
       "      <td>4</td>\n",
       "      <td>4.6</td>\n",
       "      <td>3.1</td>\n",
       "      <td>1.5</td>\n",
       "      <td>0.2</td>\n",
       "      <td>Iris-setosa</td>\n",
       "    </tr>\n",
       "    <tr>\n",
       "      <th>4</th>\n",
       "      <td>5</td>\n",
       "      <td>5.0</td>\n",
       "      <td>3.6</td>\n",
       "      <td>1.4</td>\n",
       "      <td>0.2</td>\n",
       "      <td>Iris-setosa</td>\n",
       "    </tr>\n",
       "  </tbody>\n",
       "</table>\n",
       "</div>"
      ],
      "text/plain": [
       "   Id  SepalLengthCm  SepalWidthCm  PetalLengthCm  PetalWidthCm      Species\n",
       "0   1            5.1           3.5            1.4           0.2  Iris-setosa\n",
       "1   2            4.9           3.0            1.4           0.2  Iris-setosa\n",
       "2   3            4.7           3.2            1.3           0.2  Iris-setosa\n",
       "3   4            4.6           3.1            1.5           0.2  Iris-setosa\n",
       "4   5            5.0           3.6            1.4           0.2  Iris-setosa"
      ]
     },
     "execution_count": 3,
     "metadata": {},
     "output_type": "execute_result"
    }
   ],
   "source": [
    "df.head()"
   ]
  },
  {
   "cell_type": "code",
   "execution_count": 4,
   "id": "ff63da26-cc64-4ed4-ab7e-750401df7cf3",
   "metadata": {},
   "outputs": [],
   "source": [
    "df = df.drop('Id', axis=1)\n",
    "df = df.rename(columns={\"Species\":\"Label\"})"
   ]
  },
  {
   "cell_type": "code",
   "execution_count": null,
   "id": "c03c71d0-fd23-4631-9884-97a3bbb20734",
   "metadata": {},
   "outputs": [],
   "source": []
  },
  {
   "cell_type": "code",
   "execution_count": 5,
   "id": "deaf6fec-5dd7-47ac-aee9-ab4560f7397c",
   "metadata": {},
   "outputs": [
    {
     "name": "stdout",
     "output_type": "stream",
     "text": [
      "[84, 113, 62, 74, 68, 116, 33, 128, 139]\n"
     ]
    },
    {
     "data": {
      "text/plain": [
       "(     SepalLengthCm  SepalWidthCm  PetalLengthCm  PetalWidthCm           Label\n",
       " 0              5.1           3.5            1.4           0.2     Iris-setosa\n",
       " 1              4.9           3.0            1.4           0.2     Iris-setosa\n",
       " 2              4.7           3.2            1.3           0.2     Iris-setosa\n",
       " 3              4.6           3.1            1.5           0.2     Iris-setosa\n",
       " 4              5.0           3.6            1.4           0.2     Iris-setosa\n",
       " ..             ...           ...            ...           ...             ...\n",
       " 145            6.7           3.0            5.2           2.3  Iris-virginica\n",
       " 146            6.3           2.5            5.0           1.9  Iris-virginica\n",
       " 147            6.5           3.0            5.2           2.0  Iris-virginica\n",
       " 148            6.2           3.4            5.4           2.3  Iris-virginica\n",
       " 149            5.9           3.0            5.1           1.8  Iris-virginica\n",
       " \n",
       " [141 rows x 5 columns],\n",
       "      SepalLengthCm  SepalWidthCm  PetalLengthCm  PetalWidthCm            Label\n",
       " 84             5.4           3.0            4.5           1.5  Iris-versicolor\n",
       " 113            5.7           2.5            5.0           2.0   Iris-virginica\n",
       " 62             6.0           2.2            4.0           1.0  Iris-versicolor\n",
       " 74             6.4           2.9            4.3           1.3  Iris-versicolor\n",
       " 68             6.2           2.2            4.5           1.5  Iris-versicolor\n",
       " 116            6.5           3.0            5.5           1.8   Iris-virginica\n",
       " 33             5.5           4.2            1.4           0.2      Iris-setosa\n",
       " 128            6.4           2.8            5.6           2.1   Iris-virginica\n",
       " 139            6.9           3.1            5.4           2.1   Iris-virginica)"
      ]
     },
     "execution_count": 5,
     "metadata": {},
     "output_type": "execute_result"
    }
   ],
   "source": [
    "def train_test_split(df, test_size):\n",
    "    unique_numbers = []\n",
    "    [unique_numbers.append(random_num) for _ in range(test_size) if (random_num := random.randint(1, 150)) not in unique_numbers]\n",
    "    print(unique_numbers)\n",
    "    train_df = df.copy()\n",
    "    test_df = df.iloc[unique_numbers]\n",
    "    train_df.drop(unique_numbers, inplace=True)\n",
    "    return train_df, test_df\n",
    "train_test_split(df, 10)"
   ]
  },
  {
   "cell_type": "code",
   "execution_count": 6,
   "id": "e95e419e-61ab-4738-a0b2-a0392af26539",
   "metadata": {},
   "outputs": [
    {
     "name": "stdout",
     "output_type": "stream",
     "text": [
      "[23, 89, 21, 149, 92, 139, 24, 16, 6, 122]\n",
      "[[5.1 3.3 1.7 0.5 'Iris-setosa']\n",
      " [5.5 2.5 4.0 1.3 'Iris-versicolor']\n",
      " [5.1 3.7 1.5 0.4 'Iris-setosa']\n",
      " [5.9 3.0 5.1 1.8 'Iris-virginica']\n",
      " [5.8 2.6 4.0 1.2 'Iris-versicolor']\n",
      " [6.9 3.1 5.4 2.1 'Iris-virginica']\n",
      " [4.8 3.4 1.9 0.2 'Iris-setosa']\n",
      " [5.4 3.9 1.3 0.4 'Iris-setosa']\n",
      " [4.6 3.4 1.4 0.3 'Iris-setosa']\n",
      " [7.7 2.8 6.7 2.0 'Iris-virginica']]\n"
     ]
    }
   ],
   "source": [
    "a , b = train_test_split(df, 10)\n",
    "print(b.values)\n",
    "\n",
    "data = a.values\n",
    "# print(data)"
   ]
  },
  {
   "cell_type": "markdown",
   "id": "ab44adf5-dd74-4297-b0ee-50886206138e",
   "metadata": {},
   "source": [
    "# Now we will check data purity\n"
   ]
  },
  {
   "cell_type": "code",
   "execution_count": 7,
   "id": "b414c27f-9ad7-4ae2-ac22-9b5d5275605c",
   "metadata": {},
   "outputs": [],
   "source": [
    "def check_purity(data):\n",
    "    label_column = data[:, -1]\n",
    "    unique_classes = np.unique(label_column)\n",
    "    if len(unique_classes) == 1:\n",
    "        return True\n",
    "    else:\n",
    "        return False"
   ]
  },
  {
   "cell_type": "code",
   "execution_count": 8,
   "id": "a4414137-dc1d-4dba-bee6-f42eb76a1567",
   "metadata": {},
   "outputs": [
    {
     "data": {
      "text/plain": [
       "False"
      ]
     },
     "execution_count": 8,
     "metadata": {},
     "output_type": "execute_result"
    }
   ],
   "source": [
    "check_purity(a[a.PetalWidthCm<1.2].values)"
   ]
  },
  {
   "cell_type": "markdown",
   "id": "c792904b-189c-48ff-b23b-28c9b34d2a91",
   "metadata": {},
   "source": [
    "### Classifier Function\n"
   ]
  },
  {
   "cell_type": "code",
   "execution_count": 9,
   "id": "3e507d93-0f56-45de-af7b-46a9b5ca2988",
   "metadata": {},
   "outputs": [
    {
     "data": {
      "text/plain": [
       "('Iris-versicolor', array([45, 48, 47], dtype=int64))"
      ]
     },
     "execution_count": 9,
     "metadata": {},
     "output_type": "execute_result"
    }
   ],
   "source": [
    "def classify_data(data):\n",
    "    \n",
    "    label_column = data[:, -1]\n",
    "    unique_classes, counts_unique_classes = np.unique(label_column, return_counts=True)\n",
    "    \n",
    "    index = counts_unique_classes.argmax()\n",
    "    classification = unique_classes[index]\n",
    "    \n",
    "    return classification, counts_unique_classes\n",
    "\n",
    "classify_data(data)"
   ]
  },
  {
   "cell_type": "code",
   "execution_count": 10,
   "id": "2bd620b3-c844-4615-93ff-a5668e11aab0",
   "metadata": {},
   "outputs": [],
   "source": [
    "def get_potential_splits(data):\n",
    "    potential_splits = {}\n",
    "    _, n_columns = data.shape\n",
    "    for column_index in range(n_columns -1):\n",
    "        potential_splits[column_index] = []\n",
    "        values = data[:, column_index]\n",
    "        unique_values = np.unique(values)\n",
    "        \n",
    "        for index in range(1,len(unique_values)):\n",
    "            current_value = unique_values[index]\n",
    "            previous_value = unique_values[index-1]\n",
    "            potential_split = (current_value + previous_value) / 2\n",
    "            potential_splits[column_index].append(potential_split)\n",
    "            \n",
    "    return potential_splits"
   ]
  },
  {
   "cell_type": "code",
   "execution_count": 11,
   "id": "f57ced47-1d78-400c-b1df-5e5bfea60151",
   "metadata": {},
   "outputs": [
    {
     "ename": "SyntaxError",
     "evalue": "invalid syntax (802195136.py, line 1)",
     "output_type": "error",
     "traceback": [
      "\u001b[1;36m  File \u001b[1;32m\"C:\\Users\\susha\\AppData\\Local\\Temp\\ipykernel_17876\\802195136.py\"\u001b[1;36m, line \u001b[1;32m1\u001b[0m\n\u001b[1;33m    Petal width ko value minus garera data points nikalyo ani tyo data points lai chai use garyo\u001b[0m\n\u001b[1;37m          ^\u001b[0m\n\u001b[1;31mSyntaxError\u001b[0m\u001b[1;31m:\u001b[0m invalid syntax\n"
     ]
    }
   ],
   "source": [
    "Petal width ko value minus garera data points nikalyo ani tyo data points lai chai use garyo"
   ]
  },
  {
   "cell_type": "code",
   "execution_count": 33,
   "id": "77e91fb1-1f0f-4ace-a61d-cdb343a5f68f",
   "metadata": {},
   "outputs": [
    {
     "name": "stdout",
     "output_type": "stream",
     "text": [
      "{0: [4.35, 4.45, 4.55, 4.65, 4.75, 4.85, 4.95, 5.05, 5.15, 5.25, 5.35, 5.45, 5.55, 5.65, 5.75, 5.85, 5.95, 6.05, 6.15, 6.25, 6.35, 6.45, 6.55, 6.65, 6.75, 6.85, 6.95, 7.05, 7.15, 7.25, 7.35, 7.5, 7.65, 7.800000000000001], 1: [2.1, 2.25, 2.3499999999999996, 2.45, 2.55, 2.6500000000000004, 2.75, 2.8499999999999996, 2.95, 3.05, 3.1500000000000004, 3.25, 3.3499999999999996, 3.45, 3.55, 3.6500000000000004, 3.75, 3.8499999999999996, 3.95, 4.05, 4.15, 4.300000000000001], 2: [1.05, 1.15, 1.25, 1.35, 1.45, 1.55, 1.65, 1.7999999999999998, 2.45, 3.15, 3.4, 3.55, 3.6500000000000004, 3.75, 3.8499999999999996, 3.95, 4.05, 4.15, 4.25, 4.35, 4.45, 4.55, 4.65, 4.75, 4.85, 4.95, 5.05, 5.15, 5.25, 5.35, 5.45, 5.55, 5.65, 5.75, 5.85, 5.95, 6.05, 6.199999999999999, 6.35, 6.5, 6.65, 6.800000000000001], 3: [0.15000000000000002, 0.25, 0.35, 0.5, 0.8, 1.05, 1.15, 1.25, 1.35, 1.45, 1.55, 1.65, 1.75, 1.85, 1.95, 2.05, 2.1500000000000004, 2.25, 2.3499999999999996, 2.45]}\n"
     ]
    }
   ],
   "source": [
    "potential_splits = get_potential_splits(a.values)\n",
    "print(potential_splits)"
   ]
  },
  {
   "cell_type": "code",
   "execution_count": 37,
   "id": "e85a35d8-e78c-4059-9bf9-7117d5a3143e",
   "metadata": {},
   "outputs": [
    {
     "data": {
      "text/plain": [
       "<seaborn.axisgrid.FacetGrid at 0x229a5795370>"
      ]
     },
     "execution_count": 37,
     "metadata": {},
     "output_type": "execute_result"
    }
   ],
   "source": [
    "sns.lmplot(data=a, x=\"PetalWidthCm\", y=\"PetalLengthCm\", fit_reg=False, hue=\"Label\", height=6 , aspect=1.2)"
   ]
  },
  {
   "cell_type": "code",
   "execution_count": 38,
   "id": "ba7c9977-6f0b-4e54-a029-07d6ad096945",
   "metadata": {},
   "outputs": [
    {
     "data": {
      "image/png": "[encoded data removed]",
      "text/plain": [
       "<Figure size 863x600 with 1 Axes>"
      ]
     },
     "metadata": {},
     "output_type": "display_data"
    }
   ],
   "source": [
    "plt.vlines(x=potential_splits[3], ymin=1, ymax=7)\n",
    "plt.show()"
   ]
  },
  {
   "cell_type": "code",
   "execution_count": null,
   "id": "6b7b7cc8-e264-4cd0-83f6-93a8c92dbcdc",
   "metadata": {},
   "outputs": [],
   "source": []
  }
 ],
 "metadata": {
  "kernelspec": {
   "display_name": "Python 3 (ipykernel)",
   "language": "python",
   "name": "python3"
  },
  "language_info": {
   "codemirror_mode": {
    "name": "ipython",
    "version": 3
   },
   "file_extension": ".py",
   "mimetype": "text/x-python",
   "name": "python",
   "nbconvert_exporter": "python",
   "pygments_lexer": "ipython3",
   "version": "3.9.13"
  }
 },
 "nbformat": 4,
 "nbformat_minor": 5
}
