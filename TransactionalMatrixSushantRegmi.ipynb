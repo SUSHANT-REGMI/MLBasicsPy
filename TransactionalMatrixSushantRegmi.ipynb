{
 "cells": [
  {
   "cell_type": "code",
   "execution_count": 1,
   "id": "702d8936-759d-4522-8b5a-f89881d07f3d",
   "metadata": {},
   "outputs": [],
   "source": [
    "from prettytable import PrettyTable as pt\n",
    "import ipywidgets as widgets\n",
    "from IPython.display import display\n",
    "from prettytable import PrettyTable as pt"
   ]
  },
  {
   "cell_type": "code",
   "execution_count": 2,
   "id": "dab2b805-9381-4357-a6c7-dd814dbbbd99",
   "metadata": {},
   "outputs": [],
   "source": [
    "with open('grocery_dataset.txt', 'r') as file:\n",
    "    dataset = [line.strip().split(',') for line in file]   #contains the list of lists of every row in the dataset\n",
    "\n",
    "unique_items = sorted(set(item for transaction in dataset for item in transaction))   #create a list of unique items\n",
    "\n",
    "transactional_matrix = []\n",
    "\n",
    "#populate the matrix with binary values\n",
    "for transaction in dataset:\n",
    "    transaction_vector = [1 if item in transaction else 0 for item in unique_items]   #takes an item from unique_items and checks if the row contains the item; if true then value 1 else 0\n",
    "    transactional_matrix.append(transaction_vector)   #2d list that contains the transaction vector"
   ]
  },
  {
   "cell_type": "code",
   "execution_count": 3,
   "id": "82e50844-9742-4bad-afea-e049ea8e0795",
   "metadata": {},
   "outputs": [
    {
     "data": {
      "application/vnd.jupyter.widget-view+json": {
       "model_id": "0ba3572120da47a2840f326b88380dad",
       "version_major": 2,
       "version_minor": 0
      },
      "text/plain": [
       "VBox(children=(Output(layout=Layout(width='2000px')),), layout=Layout(overflow='visible'))"
      ]
     },
     "metadata": {},
     "output_type": "display_data"
    }
   ],
   "source": [
    "tp = pt()\n",
    "tp.field_names = [\"Transactions(Combinations)\"] + unique_items\n",
    "\n",
    "for i, row in enumerate(transactional_matrix):   #adding transaction data to the table\n",
    "    tp.add_row([\"T\" + str(i+1)] + row)\n",
    "\n",
    "\n",
    "table_widget = widgets.Output()   #creating a widget for the table\n",
    "table_widget.layout.width='2000px'\n",
    "\n",
    "with table_widget:\n",
    "    display(tp)\n",
    "\n",
    "scrollbar = widgets.VBox([table_widget])\n",
    "scrollbar.layout.overflow = 'visible'\n",
    "\n",
    "display(scrollbar)"
   ]
  },
  {
   "cell_type": "code",
   "execution_count": null,
   "id": "bdc59a73-1d61-4afa-a7a0-13ed2708c16e",
   "metadata": {},
   "outputs": [],
   "source": []
  }
 ],
 "metadata": {
  "kernelspec": {
   "display_name": "Python 3 (ipykernel)",
   "language": "python",
   "name": "python3"
  },
  "language_info": {
   "codemirror_mode": {
    "name": "ipython",
    "version": 3
   },
   "file_extension": ".py",
   "mimetype": "text/x-python",
   "name": "python",
   "nbconvert_exporter": "python",
   "pygments_lexer": "ipython3",
   "version": "3.9.13"
  }
 },
 "nbformat": 4,
 "nbformat_minor": 5
}
