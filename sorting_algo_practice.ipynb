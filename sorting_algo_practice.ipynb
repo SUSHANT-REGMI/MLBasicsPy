{
 "cells": [
  {
   "cell_type": "markdown",
   "id": "76e7b3a6-0450-42b6-9c9d-ce045fb6e992",
   "metadata": {},
   "source": [
    "## Insertion Sort\n"
   ]
  },
  {
   "cell_type": "code",
   "execution_count": 24,
   "id": "a19323e6-5104-4bbc-a0de-54841cd7d149",
   "metadata": {},
   "outputs": [
    {
     "name": "stdout",
     "output_type": "stream",
     "text": [
      "[3, 3, 4, 4, 6, 7, 7, 8, 10, 11, 11, 12, 13, 15, 18, 18, 23, 25, 26, 27, 29, 29, 30, 31, 31, 31, 32, 34, 34, 35, 36, 37, 37, 37, 38, 39, 39, 40, 41, 43, 43, 46, 46, 47, 48, 50, 51, 52, 52, 53, 53, 54, 56, 56, 56, 56, 56, 58, 58, 60, 60, 62, 62, 62, 63, 63, 64, 66, 67, 67, 70, 70, 71, 73, 75, 75, 76, 76, 77, 79, 80, 82, 82, 82, 86, 88, 89, 90, 90, 90, 93, 93, 94, 96, 97, 98, 98, 99, 100, 100]\n"
     ]
    }
   ],
   "source": [
    "import random\n",
    "list_of_numbers = [random.randint(1,100) for i in range(100)]\n",
    "\n",
    "def insertion(list_of_numbers):                            #range 2, list_of_numbers-1 dyahunxa pseudocode ma chai\n",
    "    for j in range( len(list_of_numbers)):\n",
    "        key = list_of_numbers[j]\n",
    "        i = j-1\n",
    "        while i>=0 and list_of_numbers[i]>key:             #pseudocode ma = symbol deko hudaina\n",
    "            list_of_numbers[i+1] = list_of_numbers[i]\n",
    "            i = i-1\n",
    "        list_of_numbers[i+1] = key\n",
    "    return list_of_numbers\n",
    "print(insertion(list_of_numbers))"
   ]
  },
  {
   "cell_type": "markdown",
   "id": "dbbc738d-f885-4180-a9cd-af2c9af82087",
   "metadata": {},
   "source": [
    "## Selection Sort"
   ]
  },
  {
   "cell_type": "code",
   "execution_count": 28,
   "id": "83f2d35b-0646-4e49-9394-a8ef7c9f06ad",
   "metadata": {},
   "outputs": [],
   "source": [
    "A = [random.randint(1,100) for i in range(1,100)]\n"
   ]
  },
  {
   "cell_type": "code",
   "execution_count": 29,
   "id": "4f687737-4d37-4528-bd2c-da243370f970",
   "metadata": {},
   "outputs": [
    {
     "name": "stdout",
     "output_type": "stream",
     "text": [
      "[1, 2, 2, 4, 4, 5, 6, 6, 10, 12, 12, 12, 13, 15, 15, 15, 16, 16, 17, 17, 17, 17, 18, 19, 20, 21, 23, 27, 27, 28, 28, 32, 33, 35, 35, 35, 36, 36, 38, 40, 40, 41, 42, 42, 43, 44, 45, 45, 45, 46, 49, 49, 53, 54, 56, 56, 57, 57, 57, 57, 58, 59, 59, 60, 61, 61, 62, 62, 65, 66, 67, 68, 70, 71, 73, 73, 76, 76, 78, 78, 78, 78, 80, 81, 83, 83, 84, 85, 87, 90, 91, 91, 93, 93, 94, 98, 98, 99, 100]\n"
     ]
    }
   ],
   "source": [
    "def selection_sort(A):\n",
    "    for i in range(len(A)):\n",
    "        m=i\n",
    "        for j in range(i+1, len(A)):\n",
    "            if A[j] < A[m]:\n",
    "                m=j\n",
    "        temp = A[i]\n",
    "        A[i] = A[m]\n",
    "        A[m] = temp\n",
    "    return A\n",
    "print(selection_sort(A))"
   ]
  },
  {
   "cell_type": "markdown",
   "id": "32bdc25d-861a-44b5-b033-e682da937a2c",
   "metadata": {},
   "source": [
    "## Quick Sort"
   ]
  },
  {
   "cell_type": "code",
   "execution_count": 32,
   "id": "ef695486-c99f-4391-8d9b-c533e466aede",
   "metadata": {},
   "outputs": [
    {
     "name": "stdout",
     "output_type": "stream",
     "text": [
      "Before Sorting: [36, 94, 87, 63, 69, 67, 13, 83, 79, 70, 13, 83, 63, 67, 49, 78, 75, 5, 72, 46, 88, 66, 40, 23, 57, 88, 22, 32, 34, 54, 21, 87, 47, 48, 67, 48, 1, 97, 45, 12, 68, 94, 96, 37, 15, 71, 3, 79, 89, 67, 83, 72, 32, 96, 55, 61, 19, 45, 68, 69, 18, 56, 80, 90, 43, 61, 27, 10, 38, 15, 37, 91, 21, 58, 17, 42, 65, 14, 33, 87, 16, 2, 42, 74, 94, 55, 91, 93, 36, 89, 9, 83, 25, 38, 84, 19, 27, 97, 72]\n",
      "\n",
      "After Sorting:  [1, 2, 3, 5, 9, 10, 12, 13, 13, 14, 15, 15, 16, 17, 18, 19, 19, 21, 21, 22, 23, 25, 27, 27, 32, 32, 33, 34, 36, 36, 37, 37, 38, 38, 40, 42, 42, 43, 45, 45, 46, 47, 48, 48, 49, 54, 55, 55, 56, 57, 58, 61, 61, 63, 63, 65, 66, 67, 67, 67, 67, 68, 68, 69, 69, 70, 71, 72, 72, 72, 74, 75, 78, 79, 79, 80, 83, 83, 83, 83, 84, 87, 87, 87, 88, 88, 89, 89, 90, 91, 91, 93, 94, 94, 94, 96, 96, 97, 97]\n"
     ]
    }
   ],
   "source": [
    "import random\n",
    "A = [random.randint(1,100) for i in range(1,100)]\n",
    "print(\"Before Sorting: \"+str(A))\n",
    "r = len(A)\n",
    "def Partition(A, p, r):\n",
    "    x = A[r]\n",
    "    i = p-1\n",
    "    for j in range(p, r):\n",
    "        if A[j] <= x:\n",
    "            i+=1\n",
    "            A[i], A[j] = A[j], A[i]\n",
    "    A[i+1], A[r] = A[r], A[i+1]\n",
    "    return i+1\n",
    "\n",
    "def QuickSort(A,p,r):\n",
    "    if p<r:\n",
    "        q = Partition(A,p,r)\n",
    "        QuickSort(A, p, q-1)\n",
    "        QuickSort(A, q+1, r)\n",
    "    return A\n",
    "print(\"\\nAfter Sorting: \", QuickSort(A, 0, r-1))"
   ]
  },
  {
   "cell_type": "markdown",
   "id": "e78f0009-f4e9-4852-ad5a-e082985c3a13",
   "metadata": {},
   "source": [
    "## Merge Sort"
   ]
  },
  {
   "cell_type": "code",
   "execution_count": 31,
   "id": "a56232f9-42df-4f41-a9e2-c0926aa6ed7b",
   "metadata": {},
   "outputs": [
    {
     "name": "stdout",
     "output_type": "stream",
     "text": [
      "[1, 2, 2, 3, 3, 5, 6, 6, 9, 10, 11, 12, 12, 12, 12, 13, 14, 14, 14, 14, 16, 17, 17, 18, 20, 21, 22, 22, 25, 26, 26, 28, 30, 30, 32, 38, 39, 39, 39, 41, 42, 42, 43, 43, 45, 45, 46, 47, 47, 47, 48, 49, 50, 53, 54, 54, 55, 57, 57, 57, 58, 58, 61, 61, 62, 63, 67, 70, 72, 75, 75, 76, 78, 79, 81, 81, 81, 82, 82, 82, 83, 85, 86, 86, 88, 88, 88, 89, 90, 91, 91, 92, 92, 93, 93, 93, 94, 98, 99]\n"
     ]
    }
   ],
   "source": [
    "import random\n",
    "import math\n",
    "A = [random.randint(1,100) for i in range(1, 100)]\n",
    "p = 0\n",
    "r = len(A)\n",
    "\n",
    "def MergeSort(A, p, r):\n",
    "    if p<r:\n",
    "        q = math.floor((p+r)/2)\n",
    "        MergeSort(A, p, q)\n",
    "        MergeSort(A, q+1, r)\n",
    "        Merge(A, p, q, r)\n",
    "    return A\n",
    "\n",
    "\n",
    "def Merge(A, p, q, r):\n",
    "    n1 = q-p+1\n",
    "    n2 = r-q\n",
    "    L = [0] * (n1 + 1)  # Adjusted array size\n",
    "    R = [0] * (n2 + 1)  # Adjusted array size\n",
    "    # print(L, R)\n",
    "    for i in range(0,n1):\n",
    "        L[i] = A[p+i]\n",
    "    for j in range(0,n2):\n",
    "        R[j] = A[q+j+1]\n",
    "    L[n1] = float('inf')\n",
    "    R[n2] = float('inf')\n",
    "    i, j = 0, 0\n",
    "    for k in range(p, r+1):\n",
    "        if L[i] <= R[j]:\n",
    "            A[k] = L[i]\n",
    "            i+=1\n",
    "        else:\n",
    "            A[k] = R[j]\n",
    "            j+=1\n",
    "\n",
    "\n",
    "print(MergeSort(A, p, len(A)-1))"
   ]
  },
  {
   "cell_type": "code",
   "execution_count": null,
   "id": "5cad03f3-27ba-4af5-9aa3-58634fc89ff8",
   "metadata": {},
   "outputs": [],
   "source": []
  },
  {
   "cell_type": "code",
   "execution_count": 14,
   "id": "6078f840-aab6-4d96-9b8b-41fa17d225e6",
   "metadata": {},
   "outputs": [
    {
     "name": "stdout",
     "output_type": "stream",
     "text": [
      "[1, 2, 3, 3, 4, 5, 6, 6, 6, 6, 8, 10, 11, 11, 14, 15, 18, 18, 19, 19, 22, 22, 24, 27, 27, 28, 30, 30, 30, 32, 33, 34, 35, 37, 39, 40, 40, 41, 41, 41, 42, 42, 42, 42, 42, 43, 45, 46, 47, 48, 48, 49, 49, 49, 50, 50, 51, 52, 54, 54, 55, 55, 56, 56, 59, 59, 61, 66, 66, 67, 69, 70, 70, 70, 72, 73, 73, 73, 75, 76, 77, 81, 82, 82, 82, 83, 84, 84, 87, 89, 89, 90, 91, 91, 91, 92, 93, 96, 99]\n"
     ]
    }
   ],
   "source": [
    "import random\n",
    "import math\n",
    "\n",
    "A = [random.randint(1, 100) for i in range(1, 100)]\n",
    "p = 0\n",
    "r = len(A)\n",
    "\n",
    "\n",
    "def Merge(A, p, q, r):\n",
    "    n1 = q - p + 1\n",
    "    n2 = r - q\n",
    "    L=[0 for i in range(0,n1+2)]\n",
    "    R=[0 for i in range(0,n2+2)]\n",
    "\n",
    "    for i in range(n1):\n",
    "        L[i] = A[p + i]  # yaa chai -1 gareko\n",
    "    for j in range(n2):  # Corrected loop range\n",
    "        R[j] = A[q + j + 1]  # yaa chai +1 gareko\n",
    "\n",
    "    L[n1] = float('inf')\n",
    "    R[n2] = float('inf')\n",
    "\n",
    "    i, j = 0, 0\n",
    "    for k in range(p, r+1):          # r-1 samma navayera r samma janu parxa so r+1 gareko\n",
    "        if L[i] <= R[j]:\n",
    "            A[k] = L[i]\n",
    "            i += 1\n",
    "        else:\n",
    "            A[k] = R[j]\n",
    "            j += 1\n",
    "\n",
    "\n",
    "\n",
    "def MergeSort(A, p, r):\n",
    "    if p < r:\n",
    "        q = math.floor((p + r) / 2)\n",
    "        MergeSort(A, p, q)\n",
    "        MergeSort(A, q + 1, r)\n",
    "        Merge(A, p, q, r)\n",
    "    return A\n",
    "\n",
    "\n",
    "print(MergeSort(A, p, r-1))"
   ]
  },
  {
   "cell_type": "markdown",
   "id": "1616bdae-ab65-489e-96c3-4ed9244767a2",
   "metadata": {},
   "source": [
    "## Activity Selection Problem"
   ]
  },
  {
   "cell_type": "code",
   "execution_count": 33,
   "id": "1e6ce2b8-08b4-4a0e-8bba-614259a9e705",
   "metadata": {},
   "outputs": [
    {
     "name": "stdout",
     "output_type": "stream",
     "text": [
      "[(1, 4), (3, 5), (0, 6), (5, 7), (3, 9), (5, 9), (6, 10), (8, 11), (8, 12), (2, 14), (12, 16)]\n"
     ]
    },
    {
     "data": {
      "text/plain": [
       "[3, 7, 10]"
      ]
     },
     "execution_count": 33,
     "metadata": {},
     "output_type": "execute_result"
    }
   ],
   "source": [
    "s = [1,3,0,5,3,5,6,8,8,2,12]\n",
    "f = [4,5,6,7,9,9,10,11,12,14,16]\n",
    "a = zip(s,f)\n",
    "print(list(a))\n",
    "def r(s,f,k,n):\n",
    "    m = k+1\n",
    "    while m<=n and s[m] < f[k]:\n",
    "        m+=1\n",
    "    if m<=n:\n",
    "        return [m]+r(s,f,m,n)\n",
    "    else:\n",
    "        return []\n",
    "r(s, f, 0, len(s)-1)"
   ]
  },
  {
   "cell_type": "code",
   "execution_count": 19,
   "id": "a1b67b57-dc4d-4696-945e-6d2d84f91fad",
   "metadata": {},
   "outputs": [
    {
     "name": "stdin",
     "output_type": "stream",
     "text": [
      "Enter first word  water\n",
      "Enter Second Word  gater\n"
     ]
    },
    {
     "name": "stdout",
     "output_type": "stream",
     "text": [
      "2\n",
      "2\n",
      "2\n",
      "2\n",
      "2\n",
      "2\n",
      "1\n",
      "2\n",
      "2\n",
      "2\n",
      "2\n",
      "2\n",
      "1\n",
      "2\n",
      "2\n",
      "2\n",
      "2\n",
      "2\n",
      "1\n",
      "2\n",
      "2\n",
      "2\n",
      "2\n",
      "2\n",
      "1\n"
     ]
    }
   ],
   "source": [
    "first_word, second_word = input(\"Enter first word \"), input(\"Enter Second Word \")\n",
    "m, n = len(first_word), len(second_word)\n",
    "def LCS(first_word, second_word):\n",
    "    length = [[0 for _ in range(n+1)] for _ in range(m+1)]\n",
    "    previous = [[0 for _ in range(n+1)] for _ in range(m+1)]\n",
    "    \n",
    "    for i in range(0,m+1):\n",
    "        for j in range(0,n+1):\n",
    "            if i==0 or j==0:\n",
    "                length[i][j] = 0\n",
    "            elif first_word[i-1] == second_word[j-1]:\n",
    "                length[i][j] = length[i-1][j-1]+1\n",
    "                previous[i][j]= \"↖\"\n",
    "                print(\"1\")\n",
    "                \n",
    "            elif length[i-1][j] >= length[i-1][j]:\n",
    "                length[i][j] = length[i-1][j]\n",
    "                previous[i][j] = \"↑\"\n",
    "                print(\"2\")\n",
    "            \n",
    "            else:\n",
    "                length[i][j]=length[i][ j-1]\n",
    "                previous[i][j] = \"<-\"\n",
    "                print(\"3\")\n",
    "LCS(first_word, second_word)      "
   ]
  },
  {
   "cell_type": "code",
   "execution_count": 34,
   "id": "985a1913-9822-46cb-9cf4-3a3c852be29f",
   "metadata": {},
   "outputs": [
    {
     "name": "stdin",
     "output_type": "stream",
     "text": [
      "Enter 1 element:  1\n",
      "Enter 2 element:  2\n",
      "Enter 3 element:  3\n",
      "Enter 4 element:  4\n",
      "Enter 5 element:  5\n"
     ]
    },
    {
     "data": {
      "text/plain": [
       "[1, 2, 3, 4, 5]"
      ]
     },
     "execution_count": 34,
     "metadata": {},
     "output_type": "execute_result"
    }
   ],
   "source": [
    "def ask(n):\n",
    "    return[int(input(f\"Enter {i+1} element: \")) for i in range(n)]\n",
    "ask(5)"
   ]
  },
  {
   "cell_type": "code",
   "execution_count": null,
   "id": "7ba96a76-d477-48a0-b66c-7d55bc53c400",
   "metadata": {},
   "outputs": [],
   "source": []
  }
 ],
 "metadata": {
  "kernelspec": {
   "display_name": "Python 3 (ipykernel)",
   "language": "python",
   "name": "python3"
  },
  "language_info": {
   "codemirror_mode": {
    "name": "ipython",
    "version": 3
   },
   "file_extension": ".py",
   "mimetype": "text/x-python",
   "name": "python",
   "nbconvert_exporter": "python",
   "pygments_lexer": "ipython3",
   "version": "3.9.13"
  }
 },
 "nbformat": 4,
 "nbformat_minor": 5
}
